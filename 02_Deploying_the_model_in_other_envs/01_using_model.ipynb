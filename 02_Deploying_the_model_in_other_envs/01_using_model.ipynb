{
 "cells": [
  {
   "cell_type": "code",
   "execution_count": 3,
   "metadata": {},
   "outputs": [],
   "source": [
    "import pickle\n",
    "\n",
    "import numpy as np\n",
    "\n",
    "local_classifier = pickle.load(open('../00_saved_models/classifier.pickle','rb'))\n",
    "local_scaler = pickle.load(open('../00_saved_models/sc.pickle','rb'))"
   ]
  },
  {
   "cell_type": "code",
   "execution_count": 8,
   "metadata": {},
   "outputs": [
    {
     "name": "stdout",
     "output_type": "stream",
     "text": [
      "the prediction: [0],\n",
      "the probability: [0.2]\n"
     ]
    }
   ],
   "source": [
    "new_pred = local_classifier.predict(local_scaler.transform(np.array([[40,20000]])))\n",
    "new_pred_proba = local_classifier.predict_proba(local_scaler.transform(np.array([[40,20000]])))[:,1]\n",
    "print(f\"the prediction: {new_pred},\\nthe probability: {new_pred_proba}\")"
   ]
  },
  {
   "cell_type": "code",
   "execution_count": 9,
   "metadata": {},
   "outputs": [
    {
     "name": "stdout",
     "output_type": "stream",
     "text": [
      "the prediction: [1],\n",
      "the probability: [0.8]\n"
     ]
    }
   ],
   "source": [
    "new_pred_2 = local_classifier.predict(local_scaler.transform(np.array([[42,50000]])))\n",
    "new_pred_proba_2 = local_classifier.predict_proba(local_scaler.transform(np.array([[42,50000]])))[:,1]\n",
    "print(f\"the prediction: {new_pred_2},\\nthe probability: {new_pred_proba_2}\")"
   ]
  }
 ],
 "metadata": {
  "kernelspec": {
   "display_name": "mlops_env",
   "language": "python",
   "name": "python3"
  },
  "language_info": {
   "codemirror_mode": {
    "name": "ipython",
    "version": 3
   },
   "file_extension": ".py",
   "mimetype": "text/x-python",
   "name": "python",
   "nbconvert_exporter": "python",
   "pygments_lexer": "ipython3",
   "version": "3.7.8"
  },
  "orig_nbformat": 4
 },
 "nbformat": 4,
 "nbformat_minor": 2
}
